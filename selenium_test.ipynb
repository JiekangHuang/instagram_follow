{
 "cells": [
  {
   "cell_type": "code",
   "execution_count": 1,
   "metadata": {},
   "outputs": [],
   "source": [
    "import pandas as pd\n",
    "from selenium import webdriver\n",
    "from time import sleep"
   ]
  },
  {
   "cell_type": "code",
   "execution_count": 7,
   "metadata": {},
   "outputs": [],
   "source": [
    "users = pd.read_csv('IG_user.csv')"
   ]
  },
  {
   "cell_type": "code",
   "execution_count": 9,
   "metadata": {
    "scrolled": false
   },
   "outputs": [
    {
     "name": "stdout",
     "output_type": "stream",
     "text": [
      "error!!\n",
      "error!!\n",
      "error!!\n",
      "error!!\n",
      "error!!\n",
      "error!!\n",
      "error!!\n",
      "error!!\n",
      "error!!\n",
      "error!!\n",
      "error!!\n",
      "error!!\n",
      "error!!\n",
      "count = 1, error = 13\n"
     ]
    }
   ],
   "source": [
    "count = 0\n",
    "error = 0\n",
    "url_base = 'https://www.google.com.tw'\n",
    "url_follow = 'https://www.instagram.com/lovetojeff1023'\n",
    "\n",
    "driver = webdriver.Chrome()\n",
    "driver.maximize_window()\n",
    "\n",
    "for _user, _pass in zip(users['username'],users['password']):\n",
    "    try:\n",
    "        driver.get(url_follow)\n",
    "        sleep(1)\n",
    "        driver.find_elements_by_xpath(\"//button[@type='button']\")[1].click()\n",
    "        sleep(1)\n",
    "        driver.find_element_by_name('username').send_keys(_user)\n",
    "        driver.find_element_by_name('password').send_keys(_pass)\n",
    "        driver.find_element_by_xpath(\"//button[@type='submit']\").click()\n",
    "        sleep(5)\n",
    "        driver.find_element_by_xpath(\"//button[@type='button']\").click()\n",
    "        sleep(5)\n",
    "        driver.get(url_base)\n",
    "        sleep(4)\n",
    "        count+=1\n",
    "        \n",
    "    except:\n",
    "        error+=1\n",
    "        print(\"error!!\")\n",
    "print(\"count = {}, error = {}\".format(count, error))\n",
    "\n",
    "# driver.find_element_by_id('gb_70').click()\n",
    "# driver.find_element_by_id('identifierId').send_keys(username)\n",
    "# sleep(2)\n",
    "# driver.find_element_by_xpath(\"//span[@class='RveJvd snByac']\").click()\n",
    "# sleep(2)\n",
    "\n",
    "# sleep(2)\n",
    "# driver.find_element_by_xpath(\"//span[@class='RveJvd snByac']\").click()\n",
    "# sleep(5)\n",
    "driver.close()"
   ]
  },
  {
   "cell_type": "code",
   "execution_count": 8,
   "metadata": {
    "scrolled": true
   },
   "outputs": [
    {
     "name": "stdout",
     "output_type": "stream",
     "text": [
      "username = a23890777, password = torotoro\n",
      "username = a23890988, password = torotoro\n",
      "username = jolin910202, password = torotoro\n",
      "username = sinny_g20002019, password = torotoro\n",
      "username = love.love.love.88, password = torotoro\n",
      "username = z1234577777, password = torotoro\n",
      "username = cytherea0925, password = torotoro\n",
      "username = happy801991, password = torotoro\n",
      "username = tantan199101, password = torotoro\n",
      "username = b.t.s.jimin.jk, password = torotoro\n",
      "username = 4.ever.4.ever, password = torotoro\n",
      "username = ray.girl945, password = torotoro\n",
      "username = sinny_gz000, password = torotoro\n",
      "username = jo.jo.520, password = torotoro\n"
     ]
    }
   ],
   "source": [
    "for _user, _pass in zip(users['username'],users['password']):\n",
    "    print(\"username = {}, password = {}\".format(_user,_pass))"
   ]
  }
 ],
 "metadata": {
  "kernelspec": {
   "display_name": "python37env",
   "language": "python",
   "name": "python37env"
  },
  "language_info": {
   "codemirror_mode": {
    "name": "ipython",
    "version": 3
   },
   "file_extension": ".py",
   "mimetype": "text/x-python",
   "name": "python",
   "nbconvert_exporter": "python",
   "pygments_lexer": "ipython3",
   "version": "3.7.4"
  }
 },
 "nbformat": 4,
 "nbformat_minor": 2
}
